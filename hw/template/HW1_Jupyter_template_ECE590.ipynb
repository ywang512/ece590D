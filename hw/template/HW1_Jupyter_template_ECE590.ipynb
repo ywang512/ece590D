{
 "cells": [
  {
   "cell_type": "markdown",
   "metadata": {},
   "source": [
    "# The material presented in this notebook is for using in Introduction to Deep Learning (CEE 690/ECE 590) course, Duke University, Fall 2019."
   ]
  },
  {
   "cell_type": "markdown",
   "metadata": {},
   "source": [
    "## Why Python?\n",
    "+ Python is a widely used, general purpose programming language.\n",
    "+ Easy to start working with.\n",
    "+ Scientific computation functionality similar to Matlab and Octave.\n",
    "+ Used by major deep learning frameworks such as PyTorch and TensorFlow.\n"
   ]
  },
  {
   "cell_type": "code",
   "execution_count": 11,
   "metadata": {},
   "outputs": [
    {
     "name": "stdout",
     "output_type": "stream",
     "text": [
      "Hello World\n"
     ]
    }
   ],
   "source": [
    "print('Hello World')"
   ]
  },
  {
   "cell_type": "markdown",
   "metadata": {},
   "source": [
    "## Python Installation"
   ]
  },
  {
   "cell_type": "markdown",
   "metadata": {},
   "source": [
    "### Anaconda\n",
    "Anaconda is a popular Python environment/package manager  \n",
    "Install from https://www.anaconda.com/download/  \n",
    "We suggest using Python 3.7"
   ]
  },
  {
   "cell_type": "markdown",
   "metadata": {},
   "source": [
    "## IDEs:\n",
    "### IDLE\n",
    "IDLE comes with Python installation by default\n",
    "### PyCharm\n",
    "PyCharm is a widely used IDE (Professional version free for Duke student).  \n",
    "\n",
    "https://www.jetbrains.com/pycharm/\n",
    "\n",
    "### Spyder \n",
    "Spyder already exists in Anaconda once it is installed. Spider is very simialr to Matlab.\n",
    "\n",
    "https://www.spyder-ide.org/"
   ]
  },
  {
   "cell_type": "markdown",
   "metadata": {},
   "source": [
    "## Language Basics"
   ]
  },
  {
   "cell_type": "markdown",
   "metadata": {},
   "source": [
    "### Common Operations"
   ]
  },
  {
   "cell_type": "code",
   "execution_count": 12,
   "metadata": {},
   "outputs": [
    {
     "name": "stdout",
     "output_type": "stream",
     "text": [
      "13\n",
      "7\n",
      "1000\n",
      "3.3333333333333335\n",
      "3.3333333333333335\n",
      "3\n",
      "103\n"
     ]
    }
   ],
   "source": [
    "x = 10\n",
    "y = 3\n",
    "print(x + y)\n",
    "print(x - y)\n",
    "print(x ** y)\n",
    "print(x / y) # in python 2 returns 3\n",
    "print(x / float(y))\n",
    "print(x // y)\n",
    "print(str(x) + '' + '' + str(y))"
   ]
  },
  {
   "cell_type": "markdown",
   "metadata": {},
   "source": [
    "### Built-in Values"
   ]
  },
  {
   "cell_type": "code",
   "execution_count": 13,
   "metadata": {},
   "outputs": [
    {
     "name": "stdout",
     "output_type": "stream",
     "text": [
      "Error\n"
     ]
    }
   ],
   "source": [
    "True, False # Usual true/false values\n",
    "\n",
    "None # Represents the absence of something\n",
    "\n",
    "x = None # Variables can be None\n",
    "\n",
    "array = [1,2,None] # Lists can contain None\n",
    "\n",
    "def func():\n",
    "    return None # Functions can return None\n",
    "\n",
    "if [1,2] != [3,4]: # Can check for equality\n",
    "    print('Error')"
   ]
  },
  {
   "cell_type": "markdown",
   "metadata": {},
   "source": [
    "### Code blocks are created using indents.\n",
    "### Indents can be 2 or 4 spaces, but should be consistent throughout the file."
   ]
  },
  {
   "cell_type": "code",
   "execution_count": 14,
   "metadata": {},
   "outputs": [],
   "source": [
    "def fib(n):\n",
    "    # Indent level 1: function body\n",
    "    if n <= 1:\n",
    "        # Indent level 2: if statement body\n",
    "        return 1\n",
    "    else:\n",
    "        # Indent level 2: else statement body\n",
    "        return fib(n-1)+fib(n-2)"
   ]
  },
  {
   "cell_type": "markdown",
   "metadata": {},
   "source": [
    "## Collections"
   ]
  },
  {
   "cell_type": "markdown",
   "metadata": {},
   "source": [
    "### List\n",
    "List is a collection which is ordered and changeable (Mutable). Allows duplicate members."
   ]
  },
  {
   "cell_type": "code",
   "execution_count": 15,
   "metadata": {},
   "outputs": [
    {
     "name": "stdout",
     "output_type": "stream",
     "text": [
      "True\n",
      "True\n",
      "['Zach', 'Jay', 'Richard']\n",
      "['Zach', 'Jay', 'Richard', 'Abi', 'Kevin']\n"
     ]
    }
   ],
   "source": [
    "names = ['Zach','Jay']\n",
    "print(names[0] == 'Zach')\n",
    "names.append('Richard')\n",
    "print(len(names) == 3)\n",
    "print(names)\n",
    "\n",
    "names.extend(['Abi','Kevin'])\n",
    "print(names)\n",
    "\n",
    "names = [] # Creates an empty list\n",
    "names = list() # Also creates an empty list\n",
    "stuff = [1, ['hi','bye'], -0.12, None] # Can mix types"
   ]
  },
  {
   "cell_type": "markdown",
   "metadata": {},
   "source": [
    "### List slicing\n",
    "#### x[start:stop:step]  \n",
    "start - starting integer where the slicing of the object starts  \n",
    "stop - integer until which the slicing takes place. The slicing stops at index stop - 1.  \n",
    "step - integer value which determines the increment between each index for slicing  "
   ]
  },
  {
   "cell_type": "code",
   "execution_count": 16,
   "metadata": {},
   "outputs": [
    {
     "name": "stdout",
     "output_type": "stream",
     "text": [
      "[0, 1, 2]\n",
      "[5, 6]\n",
      "[0, 1, 2, 3, 4, 5, 6]\n",
      "6\n",
      "[4, 5, 6]\n",
      "[3, 4]\n",
      "[0, 2, 4]\n"
     ]
    }
   ],
   "source": [
    "numbers = [0, 1, 2, 3, 4, 5, 6]\n",
    "print(numbers[0:3]) # numbers[:3]\n",
    "print(numbers[5:]) # numbers[5:7]\n",
    "print(numbers[:]) # numbers\n",
    "print(numbers[-1]) # Negative index wraps around\n",
    "print(numbers[-3:])\n",
    "print(numbers[3:-2]) # Can mix and match\n",
    "print(numbers[0:5:2]) # numbers[:5:2]"
   ]
  },
  {
   "cell_type": "markdown",
   "metadata": {},
   "source": [
    "### Tuple\n",
    "A tuple is a collection which is ordered and unchangeable (Immutable)."
   ]
  },
  {
   "cell_type": "code",
   "execution_count": 17,
   "metadata": {},
   "outputs": [
    {
     "name": "stdout",
     "output_type": "stream",
     "text": [
      "True\n",
      "True\n",
      "('Zach', 'Jay')\n",
      "'tuple' object does not support item assignment\n"
     ]
    }
   ],
   "source": [
    "names = ('Zach', 'Jay') # Note the parentheses\n",
    "print(names[0] == 'Zach')\n",
    "print(len(names) == 2)\n",
    "print(names)\n",
    "try:\n",
    "    names[0] = 'Richard'\n",
    "except TypeError as e:\n",
    "    print(e)\n",
    "empty = tuple() # Empty tuple\n",
    "single = (10,) # Single-element tuple. Comma matters!"
   ]
  },
  {
   "cell_type": "markdown",
   "metadata": {},
   "source": [
    "### Set\n",
    "A set is a collection which is unordered and unindexed. In Python sets are written with curly brackets.\n",
    "\n",
    "It is suitable for creating unique collection of objects."
   ]
  },
  {
   "cell_type": "code",
   "execution_count": 18,
   "metadata": {},
   "outputs": [
    {
     "name": "stdout",
     "output_type": "stream",
     "text": [
      "True\n",
      "Jay\n",
      "Zach\n",
      "'set' object is not subscriptable\n",
      "'set' object does not support item assignment\n",
      "{'Zach'}\n",
      "{'Richard', 'Jay', 'Zach'}\n",
      "{'Jay'}\n"
     ]
    }
   ],
   "source": [
    "names = {'Zach', 'Jay', 'Zach'} # Note the curly brackets and duplicates\n",
    "print(len(names) == 2)\n",
    "for name in names:\n",
    "    print(name)\n",
    "try:\n",
    "    print(names[0])\n",
    "except TypeError as e:\n",
    "    print(e)\n",
    "try:\n",
    "    names[0] = 'Richard'\n",
    "except TypeError as e:\n",
    "    print(e)\n",
    "names_2 = {'Jay', 'Richard'}\n",
    "print(names - names_2)\n",
    "print(names | names_2)\n",
    "print(names & names_2)"
   ]
  },
  {
   "cell_type": "markdown",
   "metadata": {},
   "source": [
    "### Dictionary\n",
    "A dictionary is a collection which is unordered, changeable and indexed. In Python, dictionaries are written with curly brackets, and they have keys and values (This is used for creating hash tables)."
   ]
  },
  {
   "cell_type": "code",
   "execution_count": 19,
   "metadata": {},
   "outputs": [
    {
     "name": "stdout",
     "output_type": "stream",
     "text": [
      "{'Zach': '12-37', 'Jay': '34-23'}\n",
      "True\n",
      "False\n",
      "34-23\n",
      "{'Jay': '34-23'}\n",
      "Jay 34-23\n"
     ]
    }
   ],
   "source": [
    "phonebook = dict() # Empty dictionary\n",
    "phonebook = {'Zach': '12-37'} # Dictionary with one item\n",
    "phonebook['Jay'] = '34-23' # Add another item\n",
    "print(phonebook)\n",
    "print('Zach' in phonebook)\n",
    "print('Kevin' in phonebook)\n",
    "print(phonebook['Jay'])\n",
    "del phonebook['Zach'] # Delete an item\n",
    "print(phonebook)\n",
    "for name, number in phonebook.items():\n",
    "    print(name, number)"
   ]
  },
  {
   "cell_type": "markdown",
   "metadata": {},
   "source": [
    "## Loops"
   ]
  },
  {
   "cell_type": "code",
   "execution_count": 20,
   "metadata": {},
   "outputs": [
    {
     "name": "stdout",
     "output_type": "stream",
     "text": [
      "Hi Zack!\n",
      "Hi Jay!\n",
      "Hi Richard!\n"
     ]
    }
   ],
   "source": [
    "for name in ['Zack','Jay','Richard']:\n",
    "    print('Hi ' + name + '!')\n"
   ]
  },
  {
   "cell_type": "code",
   "execution_count": 21,
   "metadata": {},
   "outputs": [
    {
     "name": "stdout",
     "output_type": "stream",
     "text": [
      "We are stuck in a loop...\n"
     ]
    }
   ],
   "source": [
    "while True:\n",
    "    print('We are stuck in a loop...')\n",
    "    break # Break out of the while loop"
   ]
  },
  {
   "cell_type": "markdown",
   "metadata": {},
   "source": [
    "#### What about for (i=0; i<10; i++)? Use range():"
   ]
  },
  {
   "cell_type": "code",
   "execution_count": 22,
   "metadata": {},
   "outputs": [
    {
     "name": "stdout",
     "output_type": "stream",
     "text": [
      "Line0\n",
      "Line1\n",
      "Line2\n",
      "Line3\n",
      "Line4\n",
      "1 10\n",
      "2 20\n",
      "3 30\n"
     ]
    }
   ],
   "source": [
    "for i in range(5):\n",
    "    print('Line' + str(i))\n",
    "# Want an index also? Look at enumerate()!\n",
    "\n",
    "# Looping over a list, unpacking tuples:\n",
    "for x, y in [(1,10), (2,20), (3,30)]:\n",
    "    print(x, y)\n"
   ]
  },
  {
   "cell_type": "markdown",
   "metadata": {},
   "source": [
    "## Classes"
   ]
  },
  {
   "cell_type": "code",
   "execution_count": 23,
   "metadata": {},
   "outputs": [],
   "source": [
    "class Animal(object):\n",
    "    def __init__(self, species, age): # Constructor `a = Animal(‘bird’, 10)`\n",
    "        self.species = species # Refer to instance with `self`\n",
    "        self.age = age # All instance variables are public\n",
    "        \n",
    "    def isPerson(self): # Invoked with `a.isPerson()`\n",
    "        return self.species == 'Homo Sapiens'\n",
    "    \n",
    "    def growup(self):\n",
    "        self.age += 1\n",
    "        \n",
    "class Dog(Animal): # Inherits Animal’s methods\n",
    "    def __init__(self, age):\n",
    "        super(Dog, self).__init__(self.__class__.__name__, age)\n",
    "        \n",
    "    def growup(self): # Override for dog years\n",
    "        self.age += 7"
   ]
  },
  {
   "cell_type": "code",
   "execution_count": 24,
   "metadata": {},
   "outputs": [
    {
     "name": "stdout",
     "output_type": "stream",
     "text": [
      "Dog 5\n",
      "False\n",
      "12\n"
     ]
    }
   ],
   "source": [
    "mydog = Dog(5)\n",
    "print(mydog.species, mydog.age)\n",
    "print(mydog.isPerson())\n",
    "mydog.growup()\n",
    "print(mydog.age)"
   ]
  },
  {
   "cell_type": "markdown",
   "metadata": {},
   "source": [
    "## Importing Modules"
   ]
  },
  {
   "cell_type": "code",
   "execution_count": 25,
   "metadata": {},
   "outputs": [
    {
     "name": "stdout",
     "output_type": "stream",
     "text": [
      "[[0.81566023 0.45276923 0.42663961 0.79914838]\n",
      " [0.44915158 0.82602421 0.64388314 0.09666742]\n",
      " [0.4150766  0.78986132 0.80233168 0.71945517]\n",
      " [0.4742041  0.95091492 0.07909232 0.23080342]\n",
      " [0.07228364 0.70333871 0.03340771 0.67315106]]\n"
     ]
    }
   ],
   "source": [
    "# Import ‘os’ and ‘time’ modules\n",
    "import os, time\n",
    "# Import under an alias\n",
    "import numpy as np\n",
    "x = np.random.rand(5,4)\n",
    "print(x)"
   ]
  },
  {
   "cell_type": "markdown",
   "metadata": {},
   "source": [
    "## Numpy"
   ]
  },
  {
   "cell_type": "markdown",
   "metadata": {},
   "source": [
    "* Optimized library for matrix and vector computation.  \n",
    "* Makes use of C/C++ subroutines and memory-efficient data structures.  \n",
    "(Lots of computation can be efficiently represented as np.ndarray.)\n",
    "* This is the data type that you will use to represent matrix/vector computations.  \n",
    "Constructor function is np.array()  "
   ]
  },
  {
   "cell_type": "markdown",
   "metadata": {},
   "source": [
    "### np.ndarry"
   ]
  },
  {
   "cell_type": "code",
   "execution_count": 26,
   "metadata": {},
   "outputs": [
    {
     "name": "stdout",
     "output_type": "stream",
     "text": [
      "[1 2 3] [[3 4 5]] [[6 7]\n",
      " [8 9]]\n",
      "(3,)\n",
      "(1, 3)\n",
      "(2, 2)\n"
     ]
    }
   ],
   "source": [
    "x = np.array([1,2,3])\n",
    "y = np.array([[3,4,5]])\n",
    "z = np.array([[6,7],[8,9]])\n",
    "print(x,y,z)\n",
    "print(x.shape)\n",
    "print(y.shape)\n",
    "print(z.shape)"
   ]
  },
  {
   "cell_type": "code",
   "execution_count": 27,
   "metadata": {},
   "outputs": [
    {
     "name": "stdout",
     "output_type": "stream",
     "text": [
      "[[1 2 3]\n",
      " [4 5 6]]\n",
      "[3 6]\n",
      "[[3]\n",
      " [6]]\n"
     ]
    }
   ],
   "source": [
    "x = np.array([[1,2,3],[4,5,6]])\n",
    "print(x)\n",
    "print(np.max(x, axis = 1))\n",
    "print(np.max(x, axis = 1, keepdims = True))"
   ]
  },
  {
   "cell_type": "markdown",
   "metadata": {},
   "source": [
    "* Matrix Operations: np.dot, np.linalg.norm, .T, +, -, *, ...  \n",
    "* Infix operators (i.e. +, -, *, **, /) are element-wise.  \n",
    "* Matrix multiplication is done with np.dot(x, W) or x.dot(W). Transpose a matrix with x.T \n",
    "* Note: Shapes (N,) != (1, N) != (N,1)"
   ]
  },
  {
   "cell_type": "code",
   "execution_count": 28,
   "metadata": {},
   "outputs": [
    {
     "name": "stdout",
     "output_type": "stream",
     "text": [
      "(3,)\n",
      "(3,)\n",
      "(1, 3)\n",
      "(3, 1)\n"
     ]
    }
   ],
   "source": [
    "x = np.array([1,2,3])\n",
    "print(x.shape)\n",
    "print(x.T.shape)\n",
    "print(x.reshape((1,-1)).shape)\n",
    "print(x.reshape((-1,1)).shape)"
   ]
  },
  {
   "cell_type": "markdown",
   "metadata": {},
   "source": [
    "### Indexing\n",
    "https://docs.scipy.org/doc/numpy/reference/arrays.indexing.html"
   ]
  },
  {
   "cell_type": "code",
   "execution_count": 29,
   "metadata": {},
   "outputs": [
    {
     "name": "stdout",
     "output_type": "stream",
     "text": [
      "[[0.20053743 0.16270807 0.50493649 0.3020227 ]\n",
      " [0.93498278 0.02429857 0.38098177 0.56891555]\n",
      " [0.33869611 0.71534738 0.20774674 0.07886102]]\n",
      "[[0.20053743 0.16270807 0.50493649 0.3020227 ]\n",
      " [0.33869611 0.71534738 0.20774674 0.07886102]]\n",
      "[0.02429857 0.38098177]\n",
      "[array([[False, False,  True, False],\n",
      "       [ True, False, False,  True],\n",
      "       [False,  True, False, False]])]\n",
      "[0.50493649 0.93498278 0.56891555 0.71534738]\n"
     ]
    }
   ],
   "source": [
    "x = np.random.random((3, 4)) # Random (3,4) matrix\n",
    "print(x)\n",
    "print(x[np.array([0, 2]), :]) # Selects the 0th and 2nd rows\n",
    "print(x[1, 1:3]) # Selects 1st row as 1-D vector and 1st through 2nd elements\n",
    "print([x > 0.5])\n",
    "print(x[x > 0.5]) # Boolean indexing"
   ]
  },
  {
   "cell_type": "markdown",
   "metadata": {},
   "source": [
    "### Broadcasting\n",
    "https://docs.scipy.org/doc/numpy/user/basics.broadcasting.html  \n",
    "When operating on two arrays, NumPy compares their shapes element-wise. It starts with the trailing dimensions, and works its way forward. Two dimensions are compatible when  \n",
    "* they are equal, or\n",
    "* one of them is 1"
   ]
  },
  {
   "cell_type": "code",
   "execution_count": 30,
   "metadata": {},
   "outputs": [
    {
     "name": "stdout",
     "output_type": "stream",
     "text": [
      "(3, 4)\n",
      "(3, 4)\n",
      "(3, 3)\n"
     ]
    }
   ],
   "source": [
    "x = np.random.random((3, 4)) # Random (3, 4) matrix\n",
    "y = np.random.random((3, 1)) # Random (3, 1) matrix\n",
    "z = np.random.random((1, 4)) # Random (3,) vector\n",
    "print((x + y).shape) # Adds y to each column of x\n",
    "print((x * z).shape) # Multiplies z element-wise with each row of x\n",
    "print((y + y.T).shape) # Can give unexpected results!"
   ]
  },
  {
   "cell_type": "markdown",
   "metadata": {},
   "source": [
    "## Avoid explicit for-loops over indices/axes at all costs.\n",
    "## For-loops will dramatically slow down your code (~10-100x)"
   ]
  },
  {
   "cell_type": "code",
   "execution_count": 31,
   "metadata": {},
   "outputs": [
    {
     "name": "stdout",
     "output_type": "stream",
     "text": [
      "0.4328644275665283\n",
      "0.12763500213623047\n"
     ]
    }
   ],
   "source": [
    "import time\n",
    "s = time.time()\n",
    "x = np.random.rand(1000,1000)\n",
    "for i in range(x.shape[0]):\n",
    "    for j in range(x.shape[1]):\n",
    "        x[i,j] **= 2\n",
    "print(time.time()-s)\n",
    "\n",
    "s = time.time()\n",
    "x **= 2\n",
    "print(time.time()-s)"
   ]
  },
  {
   "cell_type": "code",
   "execution_count": 32,
   "metadata": {},
   "outputs": [
    {
     "name": "stdout",
     "output_type": "stream",
     "text": [
      "0.37599611282348633\n",
      "0.020943164825439453\n"
     ]
    }
   ],
   "source": [
    "s = time.time()\n",
    "for i in range(100, 1000):\n",
    "    for j in range(x.shape[1]):\n",
    "        x[i, j] += 5\n",
    "print(time.time()-s)\n",
    "\n",
    "s = time.time()\n",
    "x[np.arange(100,1000), :] += 5\n",
    "print(time.time()-s)"
   ]
  },
  {
   "cell_type": "markdown",
   "metadata": {},
   "source": [
    "## Tricks"
   ]
  },
  {
   "cell_type": "markdown",
   "metadata": {},
   "source": [
    "### List Comprehension"
   ]
  },
  {
   "cell_type": "code",
   "execution_count": 33,
   "metadata": {},
   "outputs": [
    {
     "name": "stdout",
     "output_type": "stream",
     "text": [
      "[0, 1, 4, 9, 16, 25, 36, 49, 64, 81]\n",
      "[0, 1, 4, 9, 16, 25, 36, 49, 64, 81]\n"
     ]
    }
   ],
   "source": [
    "# Format: [func(x) for x in some_list]\n",
    "# Following are equivalent:\n",
    "squares = []\n",
    "for i in range(10):\n",
    "    squares.append(i**2)\n",
    "print(squares)\n",
    "squares = [i**2 for i in range(10)]\n",
    "print(squares)\n",
    "# Can be conditional:\n",
    "odds = [i**2 for i in range(10) if i%2 == 1]"
   ]
  },
  {
   "cell_type": "markdown",
   "metadata": {},
   "source": [
    "### Lambda\n",
    "A lambda function is a small anonymous function.  \n",
    "A lambda function can take any number of arguments, but can only have one expression."
   ]
  },
  {
   "cell_type": "code",
   "execution_count": 34,
   "metadata": {},
   "outputs": [
    {
     "name": "stdout",
     "output_type": "stream",
     "text": [
      "13\n",
      "13\n"
     ]
    }
   ],
   "source": [
    "# These two operations are identical\n",
    "def add(a,b,c):\n",
    "    return a + b + c\n",
    "print(add(5, 6, 2))\n",
    "\n",
    "add = lambda a, b, c : a + b + c\n",
    "print(add(5, 6, 2))"
   ]
  },
  {
   "cell_type": "code",
   "execution_count": 35,
   "metadata": {},
   "outputs": [
    {
     "name": "stdout",
     "output_type": "stream",
     "text": [
      "2\n",
      "2\n"
     ]
    }
   ],
   "source": [
    "def multiplier(input, option):\n",
    "    if option =='double':\n",
    "        return 2*input\n",
    "    elif option =='triple':\n",
    "        return 3*input\n",
    "print(multiplier(1,'double'))\n",
    "\n",
    "# To handle multiple expressions\n",
    "multiplierDict = { 'double' : lambda x : 2*x,  'triple' : lambda x : 3*x}\n",
    "def multiplier(input, option):\n",
    "    return multiplierDict[option](input)\n",
    "\n",
    "print(multiplier(1,'double'))"
   ]
  },
  {
   "cell_type": "markdown",
   "metadata": {},
   "source": [
    "### Convenient Syntax"
   ]
  },
  {
   "cell_type": "code",
   "execution_count": 36,
   "metadata": {},
   "outputs": [
    {
     "name": "stdout",
     "output_type": "stream",
     "text": [
      "['1', '2', '3']\n",
      "1,2,3\n",
      "['1', '2', '3']\n",
      "I like \"single\" quotes.\n",
      "I prefer 'double' quotes.\n"
     ]
    }
   ],
   "source": [
    "# Multiple assignment / unpacking iterables\n",
    "x, y, z = ['Tensorflow', 'PyTorch', 'Chainer']\n",
    "age, name, pets = 20, 'Joy', ['cat']\n",
    "\n",
    "# Returning multiple items from a function\n",
    "def some_func():\n",
    "    return 10, 1\n",
    "ten, one = some_func()\n",
    "\n",
    "# Joining and splitting list of strings with a delimiter\n",
    "x = ['1', '2', '3']\n",
    "print(x)\n",
    "x = ','.join(x)\n",
    "print(x)\n",
    "y = x.split(',')\n",
    "print(y)\n",
    "\n",
    "# String literals with both single and double quotes\n",
    "message = 'I like \"single\" quotes.'\n",
    "reply = \"I prefer 'double' quotes.\"\n",
    "print(message)\n",
    "print(reply)"
   ]
  },
  {
   "cell_type": "markdown",
   "metadata": {},
   "source": [
    "## Matplotlib for plotting \n",
    "\n",
    "https://matplotlib.org/"
   ]
  },
  {
   "cell_type": "markdown",
   "metadata": {},
   "source": [
    "## Import pyplot module from matplotlib package"
   ]
  },
  {
   "cell_type": "code",
   "execution_count": 38,
   "metadata": {},
   "outputs": [],
   "source": [
    "import matplotlib.pyplot as plt\n",
    "import numpy as np\n",
    "%matplotlib inline"
   ]
  },
  {
   "cell_type": "code",
   "execution_count": 39,
   "metadata": {},
   "outputs": [],
   "source": [
    "x = np.linspace(-5,5, 100)"
   ]
  },
  {
   "cell_type": "code",
   "execution_count": 40,
   "metadata": {},
   "outputs": [],
   "source": [
    "y1 = 1/(1+np.exp(-x))\n",
    "y2 = np.log(1+np.exp(-x))"
   ]
  },
  {
   "cell_type": "code",
   "execution_count": 41,
   "metadata": {},
   "outputs": [
    {
     "data": {
      "text/plain": [
       "((100,), (100,), (100,))"
      ]
     },
     "execution_count": 41,
     "metadata": {},
     "output_type": "execute_result"
    }
   ],
   "source": [
    "x.shape, y1.shape, y2.shape"
   ]
  },
  {
   "cell_type": "code",
   "execution_count": 42,
   "metadata": {},
   "outputs": [
    {
     "data": {
      "text/plain": [
       "<matplotlib.legend.Legend at 0x115349b10>"
      ]
     },
     "execution_count": 42,
     "metadata": {},
     "output_type": "execute_result"
    },
    {
     "data": {
      "image/png": "[encoded data removed]",
      "text/plain": [
       "<Figure size 432x288 with 1 Axes>"
      ]
     },
     "metadata": {
      "needs_background": "light"
     },
     "output_type": "display_data"
    }
   ],
   "source": [
    "plt.plot(x, y1, 'r-', x, y2, 'b--', linewidth=2)\n",
    "plt.grid()\n",
    "plt.legend(['Sigmoid Function', 'Exp Function'])"
   ]
  }
 ],
 "metadata": {
  "kernelspec": {
   "display_name": "Python 3",
   "language": "python",
   "name": "python3"
  },
  "language_info": {
   "codemirror_mode": {
    "name": "ipython",
    "version": 3
   },
   "file_extension": ".py",
   "mimetype": "text/x-python",
   "name": "python",
   "nbconvert_exporter": "python",
   "pygments_lexer": "ipython3",
   "version": "3.7.4"
  }
 },
 "nbformat": 4,
 "nbformat_minor": 4
}
